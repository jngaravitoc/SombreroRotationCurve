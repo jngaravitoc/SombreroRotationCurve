{
 "metadata": {
  "name": "Reading-Fits"
 },
 "nbformat": 3,
 "nbformat_minor": 0,
 "worksheets": [
  {
   "cells": [
    {
     "cell_type": "code",
     "collapsed": false,
     "input": [
      "%pylab inline"
     ],
     "language": "python",
     "metadata": {},
     "outputs": [
      {
       "output_type": "stream",
       "stream": "stdout",
       "text": [
        "\n",
        "Welcome to pylab, a matplotlib-based Python environment [backend: module://IPython.zmq.pylab.backend_inline].\n",
        "For more information, type 'help(pylab)'.\n"
       ]
      }
     ],
     "prompt_number": 1
    },
    {
     "cell_type": "markdown",
     "metadata": {},
     "source": [
      "R = -147.231   184.209 \n",
      "V = 757.153    1445.87"
     ]
    },
    {
     "cell_type": "code",
     "collapsed": false,
     "input": [
      "R = np.linspace(-147.231, 184.209, 100) #arcsecs\n",
      "V = np.linspace(757.153, 1445.87, 100)"
     ],
     "language": "python",
     "metadata": {},
     "outputs": [],
     "prompt_number": 3
    },
    {
     "cell_type": "markdown",
     "metadata": {},
     "source": [
      "To transform arcsesc to radians we use:\n",
      "Arcsecs = $1/3600\u00b0$  = $\\dfrac{\\pi}{180*3600}$    radians\n",
      "\n",
      "The radius would be.\n",
      "\n",
      "$r = tan(R)*D$\n",
      "\n",
      "where D is the distance to galaxy, for this case we hace D=10.390Mpc \n",
      "this was taken from NED."
     ]
    },
    {
     "cell_type": "code",
     "collapsed": false,
     "input": [
      "def rotation_curve(R, V):\n",
      "    r = R*pi/(3600.0*180.0 )\n",
      "    D = 10.390*1000b\n",
      "    x = D*tan(r)\n",
      "    scatter(x, V-1050.0) # This is to substract the recesion velocity of the galaxy"
     ],
     "language": "python",
     "metadata": {},
     "outputs": [],
     "prompt_number": 9
    },
    {
     "cell_type": "code",
     "collapsed": false,
     "input": [
      "rotation_curve(R, V)\n"
     ],
     "language": "python",
     "metadata": {},
     "outputs": [
      {
       "output_type": "display_data",
       "png": "[encoded data removed]"
      }
     ],
     "prompt_number": 10
    },
    {
     "cell_type": "code",
     "collapsed": false,
     "input": [
      "3600*180.0"
     ],
     "language": "python",
     "metadata": {},
     "outputs": [
      {
       "output_type": "pyout",
       "prompt_number": 10,
       "text": [
        "648000.0"
       ]
      }
     ],
     "prompt_number": 10
    },
    {
     "cell_type": "code",
     "collapsed": false,
     "input": [
      "kpc = 3.0856775812799967*10**19\n",
      "print kpc\n",
      "r = 14000\n",
      "v = 380\n",
      "G = 4.302*10**(-3)\n",
      "SolarMass = 1.98855*10**(30)\n",
      "print r"
     ],
     "language": "python",
     "metadata": {},
     "outputs": [
      {
       "output_type": "stream",
       "stream": "stdout",
       "text": [
        "3.08567758128e+19\n",
        "14000\n"
       ]
      }
     ],
     "prompt_number": 51
    },
    {
     "cell_type": "code",
     "collapsed": false,
     "input": [
      "M = r*v**2/(G)\n",
      "print M"
     ],
     "language": "python",
     "metadata": {},
     "outputs": [
      {
       "output_type": "stream",
       "stream": "stdout",
       "text": [
        "4.69920966992e+11\n"
       ]
      }
     ],
     "prompt_number": 52
    },
    {
     "cell_type": "code",
     "collapsed": false,
     "input": [
      "print M"
     ],
     "language": "python",
     "metadata": {},
     "outputs": [
      {
       "output_type": "stream",
       "stream": "stdout",
       "text": [
        "4.69920966992e+11\n"
       ]
      }
     ],
     "prompt_number": 55
    },
    {
     "cell_type": "code",
     "collapsed": false,
     "input": [
      "6.67*10**(-11)"
     ],
     "language": "python",
     "metadata": {},
     "outputs": [
      {
       "output_type": "pyout",
       "prompt_number": 54,
       "text": [
        "6.67e-11"
       ]
      }
     ],
     "prompt_number": 54
    },
    {
     "cell_type": "code",
     "collapsed": false,
     "input": [],
     "language": "python",
     "metadata": {},
     "outputs": [],
     "prompt_number": 38
    },
    {
     "cell_type": "code",
     "collapsed": false,
     "input": [],
     "language": "python",
     "metadata": {},
     "outputs": []
    }
   ],
   "metadata": {}
  }
 ]
}